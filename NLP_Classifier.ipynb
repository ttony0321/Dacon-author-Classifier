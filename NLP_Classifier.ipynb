{
  "cells": [
    {
      "cell_type": "code",
      "source": [
        "from google.colab import drive\n",
        "drive.mount('/content/drive')"
      ],
      "metadata": {
        "id": "5pYaKD5BILEc",
        "colab": {
          "base_uri": "https://localhost:8080/"
        },
        "outputId": "3c4cfc15-d22c-486e-fbae-cb5220c002a9"
      },
      "execution_count": null,
      "outputs": [
        {
          "output_type": "stream",
          "name": "stdout",
          "text": [
            "Drive already mounted at /content/drive; to attempt to forcibly remount, call drive.mount(\"/content/drive\", force_remount=True).\n"
          ]
        }
      ]
    },
    {
      "cell_type": "code",
      "source": [
        "import keras\n",
        "from keras.layers import Dense, GlobalAveragePooling1D, Embedding\n",
        "from keras.models import Sequential\n",
        "from sklearn.model_selection import train_test_split\n",
        "from keras.callbacks import EarlyStopping\n",
        "from keras_preprocessing.sequence import pad_sequences\n",
        "from pandas.core.common import random_state\n",
        "from keras.preprocessing.text import Tokenizer\n",
        "from keras.utils import to_categorical\n",
        "import pandas as pd\n",
        "import numpy as np\n"
      ],
      "metadata": {
        "id": "Atqx82u77zBW"
      },
      "execution_count": null,
      "outputs": []
    },
    {
      "cell_type": "code",
      "source": [
        "#device = torch.device(\"cuda:0\")"
      ],
      "metadata": {
        "id": "-KTx1JGxx9kW"
      },
      "execution_count": null,
      "outputs": []
    },
    {
      "cell_type": "code",
      "source": [
        "path = '/content/drive/MyDrive/writer/'\n",
        "train = pd.read_csv(path + 'train.csv')\n",
        "test = pd.read_csv(path + 'test_x.csv')\n",
        "sub = pd.read_csv(path+ 'sample_submission.csv')"
      ],
      "metadata": {
        "id": "j69kZgQax92r"
      },
      "execution_count": null,
      "outputs": []
    },
    {
      "cell_type": "code",
      "source": [
        "train.head()"
      ],
      "metadata": {
        "colab": {
          "base_uri": "https://localhost:8080/",
          "height": 206
        },
        "id": "Rpu1GUJ871Ve",
        "outputId": "565f76cf-1455-49c3-af5e-1240a95a73db"
      },
      "execution_count": null,
      "outputs": [
        {
          "output_type": "execute_result",
          "data": {
            "text/plain": [
              "   index                                               text  author\n",
              "0      0  He was almost choking. There was so much, so m...       3\n",
              "1      1             “Your sister asked for it, I suppose?”       2\n",
              "2      2   She was engaged one day as she walked, in per...       1\n",
              "3      3  The captain was in the porch, keeping himself ...       4\n",
              "4      4  “Have mercy, gentlemen!” odin flung up his han...       3"
            ],
            "text/html": [
              "\n",
              "  <div id=\"df-bdc6565a-5112-49e4-926b-294fd5524514\">\n",
              "    <div class=\"colab-df-container\">\n",
              "      <div>\n",
              "<style scoped>\n",
              "    .dataframe tbody tr th:only-of-type {\n",
              "        vertical-align: middle;\n",
              "    }\n",
              "\n",
              "    .dataframe tbody tr th {\n",
              "        vertical-align: top;\n",
              "    }\n",
              "\n",
              "    .dataframe thead th {\n",
              "        text-align: right;\n",
              "    }\n",
              "</style>\n",
              "<table border=\"1\" class=\"dataframe\">\n",
              "  <thead>\n",
              "    <tr style=\"text-align: right;\">\n",
              "      <th></th>\n",
              "      <th>index</th>\n",
              "      <th>text</th>\n",
              "      <th>author</th>\n",
              "    </tr>\n",
              "  </thead>\n",
              "  <tbody>\n",
              "    <tr>\n",
              "      <th>0</th>\n",
              "      <td>0</td>\n",
              "      <td>He was almost choking. There was so much, so m...</td>\n",
              "      <td>3</td>\n",
              "    </tr>\n",
              "    <tr>\n",
              "      <th>1</th>\n",
              "      <td>1</td>\n",
              "      <td>“Your sister asked for it, I suppose?”</td>\n",
              "      <td>2</td>\n",
              "    </tr>\n",
              "    <tr>\n",
              "      <th>2</th>\n",
              "      <td>2</td>\n",
              "      <td>She was engaged one day as she walked, in per...</td>\n",
              "      <td>1</td>\n",
              "    </tr>\n",
              "    <tr>\n",
              "      <th>3</th>\n",
              "      <td>3</td>\n",
              "      <td>The captain was in the porch, keeping himself ...</td>\n",
              "      <td>4</td>\n",
              "    </tr>\n",
              "    <tr>\n",
              "      <th>4</th>\n",
              "      <td>4</td>\n",
              "      <td>“Have mercy, gentlemen!” odin flung up his han...</td>\n",
              "      <td>3</td>\n",
              "    </tr>\n",
              "  </tbody>\n",
              "</table>\n",
              "</div>\n",
              "      <button class=\"colab-df-convert\" onclick=\"convertToInteractive('df-bdc6565a-5112-49e4-926b-294fd5524514')\"\n",
              "              title=\"Convert this dataframe to an interactive table.\"\n",
              "              style=\"display:none;\">\n",
              "        \n",
              "  <svg xmlns=\"http://www.w3.org/2000/svg\" height=\"24px\"viewBox=\"0 0 24 24\"\n",
              "       width=\"24px\">\n",
              "    <path d=\"M0 0h24v24H0V0z\" fill=\"none\"/>\n",
              "    <path d=\"M18.56 5.44l.94 2.06.94-2.06 2.06-.94-2.06-.94-.94-2.06-.94 2.06-2.06.94zm-11 1L8.5 8.5l.94-2.06 2.06-.94-2.06-.94L8.5 2.5l-.94 2.06-2.06.94zm10 10l.94 2.06.94-2.06 2.06-.94-2.06-.94-.94-2.06-.94 2.06-2.06.94z\"/><path d=\"M17.41 7.96l-1.37-1.37c-.4-.4-.92-.59-1.43-.59-.52 0-1.04.2-1.43.59L10.3 9.45l-7.72 7.72c-.78.78-.78 2.05 0 2.83L4 21.41c.39.39.9.59 1.41.59.51 0 1.02-.2 1.41-.59l7.78-7.78 2.81-2.81c.8-.78.8-2.07 0-2.86zM5.41 20L4 18.59l7.72-7.72 1.47 1.35L5.41 20z\"/>\n",
              "  </svg>\n",
              "      </button>\n",
              "      \n",
              "  <style>\n",
              "    .colab-df-container {\n",
              "      display:flex;\n",
              "      flex-wrap:wrap;\n",
              "      gap: 12px;\n",
              "    }\n",
              "\n",
              "    .colab-df-convert {\n",
              "      background-color: #E8F0FE;\n",
              "      border: none;\n",
              "      border-radius: 50%;\n",
              "      cursor: pointer;\n",
              "      display: none;\n",
              "      fill: #1967D2;\n",
              "      height: 32px;\n",
              "      padding: 0 0 0 0;\n",
              "      width: 32px;\n",
              "    }\n",
              "\n",
              "    .colab-df-convert:hover {\n",
              "      background-color: #E2EBFA;\n",
              "      box-shadow: 0px 1px 2px rgba(60, 64, 67, 0.3), 0px 1px 3px 1px rgba(60, 64, 67, 0.15);\n",
              "      fill: #174EA6;\n",
              "    }\n",
              "\n",
              "    [theme=dark] .colab-df-convert {\n",
              "      background-color: #3B4455;\n",
              "      fill: #D2E3FC;\n",
              "    }\n",
              "\n",
              "    [theme=dark] .colab-df-convert:hover {\n",
              "      background-color: #434B5C;\n",
              "      box-shadow: 0px 1px 3px 1px rgba(0, 0, 0, 0.15);\n",
              "      filter: drop-shadow(0px 1px 2px rgba(0, 0, 0, 0.3));\n",
              "      fill: #FFFFFF;\n",
              "    }\n",
              "  </style>\n",
              "\n",
              "      <script>\n",
              "        const buttonEl =\n",
              "          document.querySelector('#df-bdc6565a-5112-49e4-926b-294fd5524514 button.colab-df-convert');\n",
              "        buttonEl.style.display =\n",
              "          google.colab.kernel.accessAllowed ? 'block' : 'none';\n",
              "\n",
              "        async function convertToInteractive(key) {\n",
              "          const element = document.querySelector('#df-bdc6565a-5112-49e4-926b-294fd5524514');\n",
              "          const dataTable =\n",
              "            await google.colab.kernel.invokeFunction('convertToInteractive',\n",
              "                                                     [key], {});\n",
              "          if (!dataTable) return;\n",
              "\n",
              "          const docLinkHtml = 'Like what you see? Visit the ' +\n",
              "            '<a target=\"_blank\" href=https://colab.research.google.com/notebooks/data_table.ipynb>data table notebook</a>'\n",
              "            + ' to learn more about interactive tables.';\n",
              "          element.innerHTML = '';\n",
              "          dataTable['output_type'] = 'display_data';\n",
              "          await google.colab.output.renderOutput(dataTable, element);\n",
              "          const docLink = document.createElement('div');\n",
              "          docLink.innerHTML = docLinkHtml;\n",
              "          element.appendChild(docLink);\n",
              "        }\n",
              "      </script>\n",
              "    </div>\n",
              "  </div>\n",
              "  "
            ]
          },
          "metadata": {},
          "execution_count": 5
        }
      ]
    },
    {
      "cell_type": "code",
      "source": [
        "sub.head()"
      ],
      "metadata": {
        "colab": {
          "base_uri": "https://localhost:8080/",
          "height": 206
        },
        "id": "QOqMc7hI-B80",
        "outputId": "f8ef8b0f-61ad-484f-e433-1180af95b6f4"
      },
      "execution_count": null,
      "outputs": [
        {
          "output_type": "execute_result",
          "data": {
            "text/plain": [
              "   index  0  1  2  3  4\n",
              "0      0  0  0  0  0  0\n",
              "1      1  0  0  0  0  0\n",
              "2      2  0  0  0  0  0\n",
              "3      3  0  0  0  0  0\n",
              "4      4  0  0  0  0  0"
            ],
            "text/html": [
              "\n",
              "  <div id=\"df-5aa45132-aa41-4eca-84f1-564f66ca2971\">\n",
              "    <div class=\"colab-df-container\">\n",
              "      <div>\n",
              "<style scoped>\n",
              "    .dataframe tbody tr th:only-of-type {\n",
              "        vertical-align: middle;\n",
              "    }\n",
              "\n",
              "    .dataframe tbody tr th {\n",
              "        vertical-align: top;\n",
              "    }\n",
              "\n",
              "    .dataframe thead th {\n",
              "        text-align: right;\n",
              "    }\n",
              "</style>\n",
              "<table border=\"1\" class=\"dataframe\">\n",
              "  <thead>\n",
              "    <tr style=\"text-align: right;\">\n",
              "      <th></th>\n",
              "      <th>index</th>\n",
              "      <th>0</th>\n",
              "      <th>1</th>\n",
              "      <th>2</th>\n",
              "      <th>3</th>\n",
              "      <th>4</th>\n",
              "    </tr>\n",
              "  </thead>\n",
              "  <tbody>\n",
              "    <tr>\n",
              "      <th>0</th>\n",
              "      <td>0</td>\n",
              "      <td>0</td>\n",
              "      <td>0</td>\n",
              "      <td>0</td>\n",
              "      <td>0</td>\n",
              "      <td>0</td>\n",
              "    </tr>\n",
              "    <tr>\n",
              "      <th>1</th>\n",
              "      <td>1</td>\n",
              "      <td>0</td>\n",
              "      <td>0</td>\n",
              "      <td>0</td>\n",
              "      <td>0</td>\n",
              "      <td>0</td>\n",
              "    </tr>\n",
              "    <tr>\n",
              "      <th>2</th>\n",
              "      <td>2</td>\n",
              "      <td>0</td>\n",
              "      <td>0</td>\n",
              "      <td>0</td>\n",
              "      <td>0</td>\n",
              "      <td>0</td>\n",
              "    </tr>\n",
              "    <tr>\n",
              "      <th>3</th>\n",
              "      <td>3</td>\n",
              "      <td>0</td>\n",
              "      <td>0</td>\n",
              "      <td>0</td>\n",
              "      <td>0</td>\n",
              "      <td>0</td>\n",
              "    </tr>\n",
              "    <tr>\n",
              "      <th>4</th>\n",
              "      <td>4</td>\n",
              "      <td>0</td>\n",
              "      <td>0</td>\n",
              "      <td>0</td>\n",
              "      <td>0</td>\n",
              "      <td>0</td>\n",
              "    </tr>\n",
              "  </tbody>\n",
              "</table>\n",
              "</div>\n",
              "      <button class=\"colab-df-convert\" onclick=\"convertToInteractive('df-5aa45132-aa41-4eca-84f1-564f66ca2971')\"\n",
              "              title=\"Convert this dataframe to an interactive table.\"\n",
              "              style=\"display:none;\">\n",
              "        \n",
              "  <svg xmlns=\"http://www.w3.org/2000/svg\" height=\"24px\"viewBox=\"0 0 24 24\"\n",
              "       width=\"24px\">\n",
              "    <path d=\"M0 0h24v24H0V0z\" fill=\"none\"/>\n",
              "    <path d=\"M18.56 5.44l.94 2.06.94-2.06 2.06-.94-2.06-.94-.94-2.06-.94 2.06-2.06.94zm-11 1L8.5 8.5l.94-2.06 2.06-.94-2.06-.94L8.5 2.5l-.94 2.06-2.06.94zm10 10l.94 2.06.94-2.06 2.06-.94-2.06-.94-.94-2.06-.94 2.06-2.06.94z\"/><path d=\"M17.41 7.96l-1.37-1.37c-.4-.4-.92-.59-1.43-.59-.52 0-1.04.2-1.43.59L10.3 9.45l-7.72 7.72c-.78.78-.78 2.05 0 2.83L4 21.41c.39.39.9.59 1.41.59.51 0 1.02-.2 1.41-.59l7.78-7.78 2.81-2.81c.8-.78.8-2.07 0-2.86zM5.41 20L4 18.59l7.72-7.72 1.47 1.35L5.41 20z\"/>\n",
              "  </svg>\n",
              "      </button>\n",
              "      \n",
              "  <style>\n",
              "    .colab-df-container {\n",
              "      display:flex;\n",
              "      flex-wrap:wrap;\n",
              "      gap: 12px;\n",
              "    }\n",
              "\n",
              "    .colab-df-convert {\n",
              "      background-color: #E8F0FE;\n",
              "      border: none;\n",
              "      border-radius: 50%;\n",
              "      cursor: pointer;\n",
              "      display: none;\n",
              "      fill: #1967D2;\n",
              "      height: 32px;\n",
              "      padding: 0 0 0 0;\n",
              "      width: 32px;\n",
              "    }\n",
              "\n",
              "    .colab-df-convert:hover {\n",
              "      background-color: #E2EBFA;\n",
              "      box-shadow: 0px 1px 2px rgba(60, 64, 67, 0.3), 0px 1px 3px 1px rgba(60, 64, 67, 0.15);\n",
              "      fill: #174EA6;\n",
              "    }\n",
              "\n",
              "    [theme=dark] .colab-df-convert {\n",
              "      background-color: #3B4455;\n",
              "      fill: #D2E3FC;\n",
              "    }\n",
              "\n",
              "    [theme=dark] .colab-df-convert:hover {\n",
              "      background-color: #434B5C;\n",
              "      box-shadow: 0px 1px 3px 1px rgba(0, 0, 0, 0.15);\n",
              "      filter: drop-shadow(0px 1px 2px rgba(0, 0, 0, 0.3));\n",
              "      fill: #FFFFFF;\n",
              "    }\n",
              "  </style>\n",
              "\n",
              "      <script>\n",
              "        const buttonEl =\n",
              "          document.querySelector('#df-5aa45132-aa41-4eca-84f1-564f66ca2971 button.colab-df-convert');\n",
              "        buttonEl.style.display =\n",
              "          google.colab.kernel.accessAllowed ? 'block' : 'none';\n",
              "\n",
              "        async function convertToInteractive(key) {\n",
              "          const element = document.querySelector('#df-5aa45132-aa41-4eca-84f1-564f66ca2971');\n",
              "          const dataTable =\n",
              "            await google.colab.kernel.invokeFunction('convertToInteractive',\n",
              "                                                     [key], {});\n",
              "          if (!dataTable) return;\n",
              "\n",
              "          const docLinkHtml = 'Like what you see? Visit the ' +\n",
              "            '<a target=\"_blank\" href=https://colab.research.google.com/notebooks/data_table.ipynb>data table notebook</a>'\n",
              "            + ' to learn more about interactive tables.';\n",
              "          element.innerHTML = '';\n",
              "          dataTable['output_type'] = 'display_data';\n",
              "          await google.colab.output.renderOutput(dataTable, element);\n",
              "          const docLink = document.createElement('div');\n",
              "          docLink.innerHTML = docLinkHtml;\n",
              "          element.appendChild(docLink);\n",
              "        }\n",
              "      </script>\n",
              "    </div>\n",
              "  </div>\n",
              "  "
            ]
          },
          "metadata": {},
          "execution_count": 6
        }
      ]
    },
    {
      "cell_type": "code",
      "source": [
        "au = train.author.values"
      ],
      "metadata": {
        "id": "YKG6zeFV-Y7d"
      },
      "execution_count": null,
      "outputs": []
    },
    {
      "cell_type": "code",
      "source": [
        "au"
      ],
      "metadata": {
        "colab": {
          "base_uri": "https://localhost:8080/"
        },
        "id": "OMoxJhJpAGcz",
        "outputId": "e889f2d1-6d93-46a8-d3f1-82f25cf4f487"
      },
      "execution_count": null,
      "outputs": [
        {
          "output_type": "execute_result",
          "data": {
            "text/plain": [
              "array([3, 2, 1, ..., 1, 3, 0])"
            ]
          },
          "metadata": {},
          "execution_count": 9
        }
      ]
    },
    {
      "cell_type": "code",
      "source": [
        "train.text.values"
      ],
      "metadata": {
        "colab": {
          "base_uri": "https://localhost:8080/"
        },
        "id": "_YL21h-JB3Vx",
        "outputId": "5912b1ec-76e7-414b-e0c5-5300cdb7038d"
      },
      "execution_count": null,
      "outputs": [
        {
          "output_type": "execute_result",
          "data": {
            "text/plain": [
              "array(['He was almost choking. There was so much, so much he wanted to say, but strange exclamations were all that came from his lips. The Pole gazed fixedly at him, at the bundle of notes in his hand; looked at odin, and was in evident perplexity.',\n",
              "       '“Your sister asked for it, I suppose?”',\n",
              "       ' She was engaged one day as she walked, in perusing Jane’s last letter, and dwelling on some passages which proved that Jane had not written in spirits, when, instead of being again surprised by Mr. odin, she saw on looking up that odin was meeting her. Putting away the letter immediately and forcing a smile, she said:',\n",
              "       ..., ' \"Your sincere well-wisher, friend, and sister, \"LUCY odin.',\n",
              "       '“Then you wanted me to lend you money?”',\n",
              "       'It certainly had not occurred to me before, but I said, Yes, I should like that.'],\n",
              "      dtype=object)"
            ]
          },
          "metadata": {},
          "execution_count": 12
        }
      ]
    },
    {
      "cell_type": "code",
      "source": [
        "x_train, x_valid, y_train, y_valid = train_test_split(train.text.values, au, stratify=au,random_state = 42, test_size = 0.2, shuffle=True)"
      ],
      "metadata": {
        "id": "kq6eLbUxBbDZ"
      },
      "execution_count": null,
      "outputs": []
    },
    {
      "cell_type": "code",
      "source": [
        "np.random.seed(42)\n",
        "au = to_categorical(au)\n",
        "au"
      ],
      "metadata": {
        "colab": {
          "base_uri": "https://localhost:8080/"
        },
        "id": "9CNylA4oD1xf",
        "outputId": "07c59a79-f5d7-430f-fac1-9ee00e3dc6c8"
      },
      "execution_count": null,
      "outputs": [
        {
          "output_type": "execute_result",
          "data": {
            "text/plain": [
              "array([[0., 0., 0., 1., 0.],\n",
              "       [0., 0., 1., 0., 0.],\n",
              "       [0., 1., 0., 0., 0.],\n",
              "       ...,\n",
              "       [0., 1., 0., 0., 0.],\n",
              "       [0., 0., 0., 1., 0.],\n",
              "       [1., 0., 0., 0., 0.]], dtype=float32)"
            ]
          },
          "metadata": {},
          "execution_count": 17
        }
      ]
    },
    {
      "cell_type": "code",
      "source": [
        "#preprocess\n",
        "def preprocess(text):\n",
        "    text = text.replace(\"' \", \" ' \")\n",
        "    signs = set(',.:;\"?!')\n",
        "    prods = set(text) & signs\n",
        "    if not prods:\n",
        "        return text\n",
        "\n",
        "    for sign in prods:\n",
        "        text = text.replace(sign, ' {} '.format(sign) )\n",
        "    return text"
      ],
      "metadata": {
        "id": "kxduh-NPD2wF"
      },
      "execution_count": null,
      "outputs": []
    },
    {
      "cell_type": "code",
      "source": [
        "x_train[1]"
      ],
      "metadata": {
        "colab": {
          "base_uri": "https://localhost:8080/",
          "height": 72
        },
        "id": "n7bt73RBHSR5",
        "outputId": "3b61d042-3ce1-497f-d450-3980fd26f177"
      },
      "execution_count": null,
      "outputs": [
        {
          "output_type": "execute_result",
          "data": {
            "text/plain": [
              "'The sound of his feet upon the causeway began the business of the day; for the village was still sound asleep. The church tower looked very airy in the sunlight; a few birds that turned about it, seemed to swim in an atmosphere of more than usual rarity; and the Doctor, walking in long transparent shadows, filled his lungs amply, and proclaimed himself well contented with the morning.'"
            ],
            "application/vnd.google.colaboratory.intrinsic+json": {
              "type": "string"
            }
          },
          "metadata": {},
          "execution_count": 27
        }
      ]
    },
    {
      "cell_type": "code",
      "source": [
        "preprocess(x_train[1])"
      ],
      "metadata": {
        "colab": {
          "base_uri": "https://localhost:8080/",
          "height": 72
        },
        "id": "hyQWXCUXGfSg",
        "outputId": "dcf2c44c-e659-4531-9e61-a2ed1d1dfc2e"
      },
      "execution_count": null,
      "outputs": [
        {
          "output_type": "execute_result",
          "data": {
            "text/plain": [
              "'The sound of his feet upon the causeway began the business of the day ;  for the village was still sound asleep .  The church tower looked very airy in the sunlight ;  a few birds that turned about it ,  seemed to swim in an atmosphere of more than usual rarity ;  and the Doctor ,  walking in long transparent shadows ,  filled his lungs amply ,  and proclaimed himself well contented with the morning . '"
            ],
            "application/vnd.google.colaboratory.intrinsic+json": {
              "type": "string"
            }
          },
          "metadata": {},
          "execution_count": 28
        }
      ]
    },
    {
      "cell_type": "code",
      "source": [
        "def create_docs(df, n_gram_max=3):\n",
        "    def add_ngram(q, n_gram_max):\n",
        "        n_grams = []\n",
        "        for n in range(2, n_gram_max+1):\n",
        "            for inx in range(len(q)- n+1):\n",
        "                n_grams.append('--'.join(q[inx:inx+n]))\n",
        "        return q + n_grams\n",
        "    docs = []\n",
        "    for doc in df.text:\n",
        "        doc = preprocess(doc).split()\n",
        "        docs.append(' '.join(add_ngram(doc, n_gram_max)))\n",
        "\n",
        "    return docs"
      ],
      "metadata": {
        "id": "oTohTj42GjaS"
      },
      "execution_count": null,
      "outputs": []
    },
    {
      "cell_type": "code",
      "source": [
        "min_count = 2\n",
        "docs = create_docs(train)\n",
        "tokenizer = Tokenizer(lower=False, filters='')\n",
        "tokenizer.fit_on_texts(docs)\n",
        "num_words = sum([1 for _, v in tokenizer.word_counts.items() if v>= min_count])\n",
        "\n",
        "tokenizer = Tokenizer(num_words=num_words, lower=False, filters='')\n",
        "tokenizer.fit_on_texts(docs)\n",
        "docs = tokenizer.texts_to_sequences(docs)\n",
        "\n",
        "maxlen = 256\n",
        "\n",
        "docs = pad_sequences(sequences=docs, maxlen=maxlen)"
      ],
      "metadata": {
        "id": "TGwXaLL3MC-1"
      },
      "execution_count": null,
      "outputs": []
    },
    {
      "cell_type": "code",
      "source": [
        "docs"
      ],
      "metadata": {
        "colab": {
          "base_uri": "https://localhost:8080/"
        },
        "id": "SohrRclYMO3y",
        "outputId": "1dfa1978-23ef-48df-bac0-5a414ab5dd2f"
      },
      "execution_count": null,
      "outputs": [
        {
          "output_type": "execute_result",
          "data": {
            "text/plain": [
              "array([[     0,      0,      0, ...,    559,    944,  21664],\n",
              "       [     0,      0,      0, ...,   2914,  10746,  29255],\n",
              "       [     0,      0,      0, ...,  14983,  17188, 113164],\n",
              "       ...,\n",
              "       [     0,      0,      0, ...,  12149,  41961,  70506],\n",
              "       [     0,      0,      0, ..., 246419, 473652,  27628],\n",
              "       [     0,      0,      0, ...,   5909, 242959,  12233]], dtype=int32)"
            ]
          },
          "metadata": {},
          "execution_count": 38
        }
      ]
    },
    {
      "cell_type": "code",
      "source": [
        "input_dim = np.max(docs) + 1\n",
        "embedding_dims = 20"
      ],
      "metadata": {
        "id": "1hbnequgMQWg"
      },
      "execution_count": null,
      "outputs": []
    },
    {
      "cell_type": "code",
      "source": [
        "def create_model(embedding_dims=20, optimizer='Adam'):\n",
        "    model = Sequential()\n",
        "    model.add(Embedding(input_dim=input_dim, output_dim=embedding_dims))\n",
        "    model.add(GlobalAveragePooling1D())\n",
        "    model.add(Dense(5, activation='softmax'))\n",
        "    model.compile(loss='categorical_crossentropy',\n",
        "                  optimizer=optimizer,\n",
        "                  metrics=['accuracy'])\n",
        "    return model"
      ],
      "metadata": {
        "id": "OkdmskDqm9cI"
      },
      "execution_count": null,
      "outputs": []
    },
    {
      "cell_type": "code",
      "source": [
        "epochs = 25\n",
        "batch_size=64\n",
        "x_train, x_test, y_train, y_test = train_test_split(docs, au, test_size=0.2, random_state=7)"
      ],
      "metadata": {
        "id": "8IsY7ZaZvE19"
      },
      "execution_count": null,
      "outputs": []
    },
    {
      "cell_type": "code",
      "source": [
        "x_train"
      ],
      "metadata": {
        "colab": {
          "base_uri": "https://localhost:8080/"
        },
        "id": "yKJTp7DZv3LC",
        "outputId": "9b6e2acb-1da2-4b83-f3ed-bd1ac3d23b3f"
      },
      "execution_count": null,
      "outputs": [
        {
          "output_type": "execute_result",
          "data": {
            "text/plain": [
              "array([[     0,      0,      0, ...,  14746, 154188, 303938],\n",
              "       [   182,     18,   1037, ...,   6402, 135349, 153430],\n",
              "       [     0,      0,      0, ...,  78716,   4895, 122867],\n",
              "       ...,\n",
              "       [     0,      0,      0, ..., 118728,  35295, 164419],\n",
              "       [     0,      0,      0, ...,  44082, 312044, 336130],\n",
              "       [     0,      0,      0, ...,   5318,   1245,    625]], dtype=int32)"
            ]
          },
          "metadata": {},
          "execution_count": 56
        }
      ]
    },
    {
      "cell_type": "code",
      "source": [
        "model = create_model()\n",
        "hist = model.fit(x_train, y_train,\n",
        "                 batch_size = batch_size,\n",
        "                 validation_data=(x_test, y_test),\n",
        "                 epochs=epochs,\n",
        "                 callbacks=[EarlyStopping(patience=2, monitor='val_loss')]\n",
        "                 )"
      ],
      "metadata": {
        "colab": {
          "base_uri": "https://localhost:8080/"
        },
        "id": "3sMCzp3ev681",
        "outputId": "944c242f-3bd3-415a-af50-45bd669c4d90"
      },
      "execution_count": null,
      "outputs": [
        {
          "output_type": "stream",
          "name": "stdout",
          "text": [
            "Epoch 1/25\n",
            "686/686 [==============================] - 34s 49ms/step - loss: 1.5281 - accuracy: 0.3602 - val_loss: 1.4533 - val_accuracy: 0.4504\n",
            "Epoch 2/25\n",
            "686/686 [==============================] - 33s 48ms/step - loss: 1.3077 - accuracy: 0.5332 - val_loss: 1.2104 - val_accuracy: 0.5729\n",
            "Epoch 3/25\n",
            "686/686 [==============================] - 33s 48ms/step - loss: 1.0347 - accuracy: 0.6668 - val_loss: 1.0082 - val_accuracy: 0.6569\n",
            "Epoch 4/25\n",
            "686/686 [==============================] - 32s 47ms/step - loss: 0.8255 - accuracy: 0.7541 - val_loss: 0.8713 - val_accuracy: 0.7117\n",
            "Epoch 5/25\n",
            "686/686 [==============================] - 32s 47ms/step - loss: 0.6748 - accuracy: 0.8102 - val_loss: 0.7743 - val_accuracy: 0.7495\n",
            "Epoch 6/25\n",
            "686/686 [==============================] - 33s 48ms/step - loss: 0.5620 - accuracy: 0.8483 - val_loss: 0.7060 - val_accuracy: 0.7671\n",
            "Epoch 7/25\n",
            "686/686 [==============================] - 32s 47ms/step - loss: 0.4736 - accuracy: 0.8758 - val_loss: 0.6492 - val_accuracy: 0.7873\n",
            "Epoch 8/25\n",
            "686/686 [==============================] - 32s 47ms/step - loss: 0.4022 - accuracy: 0.8972 - val_loss: 0.6078 - val_accuracy: 0.8037\n",
            "Epoch 9/25\n",
            "686/686 [==============================] - 32s 47ms/step - loss: 0.3427 - accuracy: 0.9163 - val_loss: 0.5743 - val_accuracy: 0.8041\n",
            "Epoch 10/25\n",
            "686/686 [==============================] - 32s 47ms/step - loss: 0.2931 - accuracy: 0.9302 - val_loss: 0.5458 - val_accuracy: 0.8173\n",
            "Epoch 11/25\n",
            "686/686 [==============================] - 32s 47ms/step - loss: 0.2510 - accuracy: 0.9426 - val_loss: 0.5243 - val_accuracy: 0.8250\n",
            "Epoch 12/25\n",
            "686/686 [==============================] - 32s 47ms/step - loss: 0.2154 - accuracy: 0.9527 - val_loss: 0.5083 - val_accuracy: 0.8268\n",
            "Epoch 13/25\n",
            "686/686 [==============================] - 32s 47ms/step - loss: 0.1853 - accuracy: 0.9609 - val_loss: 0.4928 - val_accuracy: 0.8291\n",
            "Epoch 14/25\n",
            "686/686 [==============================] - 33s 48ms/step - loss: 0.1596 - accuracy: 0.9681 - val_loss: 0.4830 - val_accuracy: 0.8337\n",
            "Epoch 15/25\n",
            "686/686 [==============================] - 32s 47ms/step - loss: 0.1376 - accuracy: 0.9734 - val_loss: 0.4737 - val_accuracy: 0.8347\n",
            "Epoch 16/25\n",
            "686/686 [==============================] - 32s 47ms/step - loss: 0.1185 - accuracy: 0.9784 - val_loss: 0.4678 - val_accuracy: 0.8375\n",
            "Epoch 17/25\n",
            "686/686 [==============================] - 32s 47ms/step - loss: 0.1024 - accuracy: 0.9821 - val_loss: 0.4658 - val_accuracy: 0.8379\n",
            "Epoch 18/25\n",
            "686/686 [==============================] - 33s 48ms/step - loss: 0.0887 - accuracy: 0.9855 - val_loss: 0.4621 - val_accuracy: 0.8396\n",
            "Epoch 19/25\n",
            "686/686 [==============================] - 33s 48ms/step - loss: 0.0768 - accuracy: 0.9875 - val_loss: 0.4633 - val_accuracy: 0.8389\n",
            "Epoch 20/25\n",
            "686/686 [==============================] - 33s 48ms/step - loss: 0.0665 - accuracy: 0.9900 - val_loss: 0.4622 - val_accuracy: 0.8407\n"
          ]
        }
      ]
    },
    {
      "cell_type": "code",
      "source": [
        "model.save(path+'nlp_keras.h5')"
      ],
      "metadata": {
        "id": "VEnsDLM5Eeb8"
      },
      "execution_count": null,
      "outputs": []
    },
    {
      "cell_type": "code",
      "source": [
        "docs = create_docs(test)\n",
        "docs = tokenizer.texts_to_sequences(docs)\n",
        "docs = pad_sequences(sequences=docs, maxlen=maxlen)\n",
        "pred = model.predict(docs)\n",
        "sub = pd.read_csv(path+ 'sample_submission.csv', index_col=0)\n",
        "\n",
        "sub[sub.columns]=pred\n",
        "sub.head()"
      ],
      "metadata": {
        "colab": {
          "base_uri": "https://localhost:8080/",
          "height": 256
        },
        "id": "xkDEg0-QyrQD",
        "outputId": "8d1f06dc-8470-4680-f73c-42efd4799252"
      },
      "execution_count": null,
      "outputs": [
        {
          "output_type": "stream",
          "name": "stdout",
          "text": [
            "614/614 [==============================] - 1s 1ms/step\n"
          ]
        },
        {
          "output_type": "execute_result",
          "data": {
            "text/plain": [
              "              0             1             2         3             4\n",
              "index                                                              \n",
              "0      0.000093  9.976275e-01  2.187894e-03  0.000092  3.330005e-07\n",
              "1      0.000033  9.987539e-01  1.519373e-05  0.001147  5.103739e-05\n",
              "2      0.999989  4.449392e-06  1.449420e-07  0.000003  3.835860e-06\n",
              "3      0.005275  1.651467e-08  9.944208e-01  0.000052  2.517921e-04\n",
              "4      0.999740  1.421341e-04  2.909738e-06  0.000024  9.078097e-05"
            ],
            "text/html": [
              "\n",
              "  <div id=\"df-6d309d82-af28-4b4f-8d77-c2297bc57dd8\">\n",
              "    <div class=\"colab-df-container\">\n",
              "      <div>\n",
              "<style scoped>\n",
              "    .dataframe tbody tr th:only-of-type {\n",
              "        vertical-align: middle;\n",
              "    }\n",
              "\n",
              "    .dataframe tbody tr th {\n",
              "        vertical-align: top;\n",
              "    }\n",
              "\n",
              "    .dataframe thead th {\n",
              "        text-align: right;\n",
              "    }\n",
              "</style>\n",
              "<table border=\"1\" class=\"dataframe\">\n",
              "  <thead>\n",
              "    <tr style=\"text-align: right;\">\n",
              "      <th></th>\n",
              "      <th>0</th>\n",
              "      <th>1</th>\n",
              "      <th>2</th>\n",
              "      <th>3</th>\n",
              "      <th>4</th>\n",
              "    </tr>\n",
              "    <tr>\n",
              "      <th>index</th>\n",
              "      <th></th>\n",
              "      <th></th>\n",
              "      <th></th>\n",
              "      <th></th>\n",
              "      <th></th>\n",
              "    </tr>\n",
              "  </thead>\n",
              "  <tbody>\n",
              "    <tr>\n",
              "      <th>0</th>\n",
              "      <td>0.000093</td>\n",
              "      <td>9.976275e-01</td>\n",
              "      <td>2.187894e-03</td>\n",
              "      <td>0.000092</td>\n",
              "      <td>3.330005e-07</td>\n",
              "    </tr>\n",
              "    <tr>\n",
              "      <th>1</th>\n",
              "      <td>0.000033</td>\n",
              "      <td>9.987539e-01</td>\n",
              "      <td>1.519373e-05</td>\n",
              "      <td>0.001147</td>\n",
              "      <td>5.103739e-05</td>\n",
              "    </tr>\n",
              "    <tr>\n",
              "      <th>2</th>\n",
              "      <td>0.999989</td>\n",
              "      <td>4.449392e-06</td>\n",
              "      <td>1.449420e-07</td>\n",
              "      <td>0.000003</td>\n",
              "      <td>3.835860e-06</td>\n",
              "    </tr>\n",
              "    <tr>\n",
              "      <th>3</th>\n",
              "      <td>0.005275</td>\n",
              "      <td>1.651467e-08</td>\n",
              "      <td>9.944208e-01</td>\n",
              "      <td>0.000052</td>\n",
              "      <td>2.517921e-04</td>\n",
              "    </tr>\n",
              "    <tr>\n",
              "      <th>4</th>\n",
              "      <td>0.999740</td>\n",
              "      <td>1.421341e-04</td>\n",
              "      <td>2.909738e-06</td>\n",
              "      <td>0.000024</td>\n",
              "      <td>9.078097e-05</td>\n",
              "    </tr>\n",
              "  </tbody>\n",
              "</table>\n",
              "</div>\n",
              "      <button class=\"colab-df-convert\" onclick=\"convertToInteractive('df-6d309d82-af28-4b4f-8d77-c2297bc57dd8')\"\n",
              "              title=\"Convert this dataframe to an interactive table.\"\n",
              "              style=\"display:none;\">\n",
              "        \n",
              "  <svg xmlns=\"http://www.w3.org/2000/svg\" height=\"24px\"viewBox=\"0 0 24 24\"\n",
              "       width=\"24px\">\n",
              "    <path d=\"M0 0h24v24H0V0z\" fill=\"none\"/>\n",
              "    <path d=\"M18.56 5.44l.94 2.06.94-2.06 2.06-.94-2.06-.94-.94-2.06-.94 2.06-2.06.94zm-11 1L8.5 8.5l.94-2.06 2.06-.94-2.06-.94L8.5 2.5l-.94 2.06-2.06.94zm10 10l.94 2.06.94-2.06 2.06-.94-2.06-.94-.94-2.06-.94 2.06-2.06.94z\"/><path d=\"M17.41 7.96l-1.37-1.37c-.4-.4-.92-.59-1.43-.59-.52 0-1.04.2-1.43.59L10.3 9.45l-7.72 7.72c-.78.78-.78 2.05 0 2.83L4 21.41c.39.39.9.59 1.41.59.51 0 1.02-.2 1.41-.59l7.78-7.78 2.81-2.81c.8-.78.8-2.07 0-2.86zM5.41 20L4 18.59l7.72-7.72 1.47 1.35L5.41 20z\"/>\n",
              "  </svg>\n",
              "      </button>\n",
              "      \n",
              "  <style>\n",
              "    .colab-df-container {\n",
              "      display:flex;\n",
              "      flex-wrap:wrap;\n",
              "      gap: 12px;\n",
              "    }\n",
              "\n",
              "    .colab-df-convert {\n",
              "      background-color: #E8F0FE;\n",
              "      border: none;\n",
              "      border-radius: 50%;\n",
              "      cursor: pointer;\n",
              "      display: none;\n",
              "      fill: #1967D2;\n",
              "      height: 32px;\n",
              "      padding: 0 0 0 0;\n",
              "      width: 32px;\n",
              "    }\n",
              "\n",
              "    .colab-df-convert:hover {\n",
              "      background-color: #E2EBFA;\n",
              "      box-shadow: 0px 1px 2px rgba(60, 64, 67, 0.3), 0px 1px 3px 1px rgba(60, 64, 67, 0.15);\n",
              "      fill: #174EA6;\n",
              "    }\n",
              "\n",
              "    [theme=dark] .colab-df-convert {\n",
              "      background-color: #3B4455;\n",
              "      fill: #D2E3FC;\n",
              "    }\n",
              "\n",
              "    [theme=dark] .colab-df-convert:hover {\n",
              "      background-color: #434B5C;\n",
              "      box-shadow: 0px 1px 3px 1px rgba(0, 0, 0, 0.15);\n",
              "      filter: drop-shadow(0px 1px 2px rgba(0, 0, 0, 0.3));\n",
              "      fill: #FFFFFF;\n",
              "    }\n",
              "  </style>\n",
              "\n",
              "      <script>\n",
              "        const buttonEl =\n",
              "          document.querySelector('#df-6d309d82-af28-4b4f-8d77-c2297bc57dd8 button.colab-df-convert');\n",
              "        buttonEl.style.display =\n",
              "          google.colab.kernel.accessAllowed ? 'block' : 'none';\n",
              "\n",
              "        async function convertToInteractive(key) {\n",
              "          const element = document.querySelector('#df-6d309d82-af28-4b4f-8d77-c2297bc57dd8');\n",
              "          const dataTable =\n",
              "            await google.colab.kernel.invokeFunction('convertToInteractive',\n",
              "                                                     [key], {});\n",
              "          if (!dataTable) return;\n",
              "\n",
              "          const docLinkHtml = 'Like what you see? Visit the ' +\n",
              "            '<a target=\"_blank\" href=https://colab.research.google.com/notebooks/data_table.ipynb>data table notebook</a>'\n",
              "            + ' to learn more about interactive tables.';\n",
              "          element.innerHTML = '';\n",
              "          dataTable['output_type'] = 'display_data';\n",
              "          await google.colab.output.renderOutput(dataTable, element);\n",
              "          const docLink = document.createElement('div');\n",
              "          docLink.innerHTML = docLinkHtml;\n",
              "          element.appendChild(docLink);\n",
              "        }\n",
              "      </script>\n",
              "    </div>\n",
              "  </div>\n",
              "  "
            ]
          },
          "metadata": {},
          "execution_count": 59
        }
      ]
    },
    {
      "cell_type": "code",
      "source": [
        "sub.to_csv(path+'submission.csv')"
      ],
      "metadata": {
        "id": "RagR808O_fUa"
      },
      "execution_count": null,
      "outputs": []
    },
    {
      "cell_type": "code",
      "source": [
        "import matplotlib.pyplot as plt\n",
        "\n",
        "plt.plot(hist.history['loss'])\n",
        "plt.plot(hist.history['val_loss'])\n",
        "plt.title('Model loss')\n",
        "plt.ylabel('Loss')\n",
        "plt.xlabel('Epoch')\n",
        "plt.legend(['Train', 'Test'], loc='upper left')\n",
        "plt.show()"
      ],
      "metadata": {
        "colab": {
          "base_uri": "https://localhost:8080/",
          "height": 295
        },
        "id": "wXKK5ndaCxmq",
        "outputId": "2944ddce-23c0-49eb-9929-992f16ea420d"
      },
      "execution_count": null,
      "outputs": [
        {
          "output_type": "display_data",
          "data": {
            "text/plain": [
              "<Figure size 432x288 with 1 Axes>"
            ],
            "image/png": "[encoded data removed]"
          },
          "metadata": {
            "needs_background": "light"
          }
        }
      ]
    },
    {
      "cell_type": "code",
      "source": [],
      "metadata": {
        "id": "mLEqGu6WHoKz"
      },
      "execution_count": null,
      "outputs": []
    }
  ],
  "metadata": {
    "colab": {
      "provenance": []
    },
    "gpuClass": "standard",
    "kernelspec": {
      "display_name": "Python 3",
      "name": "python3"
    },
    "language_info": {
      "name": "python"
    }
  },
  "nbformat": 4,
  "nbformat_minor": 0
}